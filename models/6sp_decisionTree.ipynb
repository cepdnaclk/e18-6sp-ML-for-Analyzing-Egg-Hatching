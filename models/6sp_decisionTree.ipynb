{
 "cells": [
  {
   "cell_type": "code",
   "execution_count": 1,
   "metadata": {
    "id": "-I1lt3VIBP3m"
   },
   "outputs": [],
   "source": [
    "# import libraries\n",
    "import numpy as np\n",
    "import pandas as pd\n",
    "import sklearn as sk\n",
    "import sklearn.preprocessing as sk_preprocessing\n",
    "import sklearn.model_selection as sk_modelselect\n",
    "from sklearn.tree import DecisionTreeClassifier # Decision tree classifier\n",
    "from sklearn import metrics # scikit-learn metrics module for computing accuracy\n",
    "\n",
    "import warnings\n",
    "warnings.filterwarnings('ignore') # Ignore warning messages"
   ]
  },
  {
   "cell_type": "code",
   "execution_count": 2,
   "metadata": {
    "colab": {
     "base_uri": "https://localhost:8080/",
     "height": 381
    },
    "id": "89ayxmbNCgWV",
    "outputId": "8b8dfe71-7e44-4014-9bfe-1cfdffa19b25"
   },
   "outputs": [
    {
     "data": {
      "text/html": [
       "<div>\n",
       "<style scoped>\n",
       "    .dataframe tbody tr th:only-of-type {\n",
       "        vertical-align: middle;\n",
       "    }\n",
       "\n",
       "    .dataframe tbody tr th {\n",
       "        vertical-align: top;\n",
       "    }\n",
       "\n",
       "    .dataframe thead th {\n",
       "        text-align: right;\n",
       "    }\n",
       "</style>\n",
       "<table border=\"1\" class=\"dataframe\">\n",
       "  <thead>\n",
       "    <tr style=\"text-align: right;\">\n",
       "      <th></th>\n",
       "      <th>Age</th>\n",
       "      <th>Mortality female</th>\n",
       "      <th>Mortality male</th>\n",
       "      <th>sex ratio</th>\n",
       "      <th>Total Eggs</th>\n",
       "      <th>Egg Weight</th>\n",
       "      <th>Feed female</th>\n",
       "      <th>Feed male</th>\n",
       "      <th>Hatching Eggs</th>\n",
       "      <th>total hatched eggs</th>\n",
       "    </tr>\n",
       "  </thead>\n",
       "  <tbody>\n",
       "    <tr>\n",
       "      <th>0</th>\n",
       "      <td>26.0</td>\n",
       "      <td>5</td>\n",
       "      <td>2</td>\n",
       "      <td>10.290</td>\n",
       "      <td>6850</td>\n",
       "      <td>53.2</td>\n",
       "      <td>133.0</td>\n",
       "      <td>130</td>\n",
       "      <td>6405</td>\n",
       "      <td>3343.410</td>\n",
       "    </tr>\n",
       "    <tr>\n",
       "      <th>1</th>\n",
       "      <td>26.1</td>\n",
       "      <td>2</td>\n",
       "      <td>2</td>\n",
       "      <td>10.300</td>\n",
       "      <td>7630</td>\n",
       "      <td>53.4</td>\n",
       "      <td>133.0</td>\n",
       "      <td>130</td>\n",
       "      <td>7145</td>\n",
       "      <td>3729.690</td>\n",
       "    </tr>\n",
       "    <tr>\n",
       "      <th>2</th>\n",
       "      <td>26.2</td>\n",
       "      <td>2</td>\n",
       "      <td>1</td>\n",
       "      <td>10.312</td>\n",
       "      <td>8130</td>\n",
       "      <td>53.5</td>\n",
       "      <td>136.0</td>\n",
       "      <td>130</td>\n",
       "      <td>7630</td>\n",
       "      <td>3982.860</td>\n",
       "    </tr>\n",
       "    <tr>\n",
       "      <th>3</th>\n",
       "      <td>26.3</td>\n",
       "      <td>3</td>\n",
       "      <td>-</td>\n",
       "      <td>10.318</td>\n",
       "      <td>8540</td>\n",
       "      <td>53.6</td>\n",
       "      <td>136.0</td>\n",
       "      <td>130</td>\n",
       "      <td>7990</td>\n",
       "      <td>4170.780</td>\n",
       "    </tr>\n",
       "    <tr>\n",
       "      <th>4</th>\n",
       "      <td>26.4</td>\n",
       "      <td>2</td>\n",
       "      <td>-</td>\n",
       "      <td>10.316</td>\n",
       "      <td>9560</td>\n",
       "      <td>53.7</td>\n",
       "      <td>136.0</td>\n",
       "      <td>130</td>\n",
       "      <td>8915</td>\n",
       "      <td>4653.630</td>\n",
       "    </tr>\n",
       "    <tr>\n",
       "      <th>5</th>\n",
       "      <td>26.5</td>\n",
       "      <td>3</td>\n",
       "      <td>-</td>\n",
       "      <td>10.315</td>\n",
       "      <td>9490</td>\n",
       "      <td>53.8</td>\n",
       "      <td>140.0</td>\n",
       "      <td>130</td>\n",
       "      <td>8880</td>\n",
       "      <td>4635.360</td>\n",
       "    </tr>\n",
       "    <tr>\n",
       "      <th>6</th>\n",
       "      <td>26.6</td>\n",
       "      <td>3</td>\n",
       "      <td>1</td>\n",
       "      <td>10.313</td>\n",
       "      <td>9780</td>\n",
       "      <td>54.0</td>\n",
       "      <td>140.0</td>\n",
       "      <td>130</td>\n",
       "      <td>9180</td>\n",
       "      <td>4791.960</td>\n",
       "    </tr>\n",
       "    <tr>\n",
       "      <th>7</th>\n",
       "      <td>27.0</td>\n",
       "      <td>2</td>\n",
       "      <td>2</td>\n",
       "      <td>10.317</td>\n",
       "      <td>10450</td>\n",
       "      <td>54.1</td>\n",
       "      <td>140.0</td>\n",
       "      <td>130</td>\n",
       "      <td>9826</td>\n",
       "      <td>6317.135</td>\n",
       "    </tr>\n",
       "    <tr>\n",
       "      <th>8</th>\n",
       "      <td>27.1</td>\n",
       "      <td>2</td>\n",
       "      <td>2</td>\n",
       "      <td>10.329</td>\n",
       "      <td>10800</td>\n",
       "      <td>54.3</td>\n",
       "      <td>144.0</td>\n",
       "      <td>130</td>\n",
       "      <td>10110</td>\n",
       "      <td>6499.719</td>\n",
       "    </tr>\n",
       "    <tr>\n",
       "      <th>9</th>\n",
       "      <td>27.2</td>\n",
       "      <td>5</td>\n",
       "      <td>2</td>\n",
       "      <td>10.342</td>\n",
       "      <td>10860</td>\n",
       "      <td>54.5</td>\n",
       "      <td>144.0</td>\n",
       "      <td>130</td>\n",
       "      <td>10170</td>\n",
       "      <td>6538.293</td>\n",
       "    </tr>\n",
       "  </tbody>\n",
       "</table>\n",
       "</div>"
      ],
      "text/plain": [
       "    Age Mortality female Mortality male  sex ratio  Total Eggs  Egg Weight   \n",
       "0  26.0                5              2     10.290        6850        53.2  \\\n",
       "1  26.1                2              2     10.300        7630        53.4   \n",
       "2  26.2                2              1     10.312        8130        53.5   \n",
       "3  26.3                3              -     10.318        8540        53.6   \n",
       "4  26.4                2              -     10.316        9560        53.7   \n",
       "5  26.5                3              -     10.315        9490        53.8   \n",
       "6  26.6                3              1     10.313        9780        54.0   \n",
       "7  27.0                2              2     10.317       10450        54.1   \n",
       "8  27.1                2              2     10.329       10800        54.3   \n",
       "9  27.2                5              2     10.342       10860        54.5   \n",
       "\n",
       "   Feed female  Feed male  Hatching Eggs  total hatched eggs  \n",
       "0        133.0        130           6405            3343.410  \n",
       "1        133.0        130           7145            3729.690  \n",
       "2        136.0        130           7630            3982.860  \n",
       "3        136.0        130           7990            4170.780  \n",
       "4        136.0        130           8915            4653.630  \n",
       "5        140.0        130           8880            4635.360  \n",
       "6        140.0        130           9180            4791.960  \n",
       "7        140.0        130           9826            6317.135  \n",
       "8        144.0        130          10110            6499.719  \n",
       "9        144.0        130          10170            6538.293  "
      ]
     },
     "metadata": {},
     "output_type": "display_data"
    },
    {
     "name": "stdout",
     "output_type": "stream",
     "text": [
      "(302, 10)\n"
     ]
    }
   ],
   "source": [
    "# load dataset\n",
    "dataset = pd.DataFrame(pd.read_csv(\"../data/dataset_1.csv\", header=0))\n",
    "display(dataset.head(10))\n",
    "\n",
    "print(dataset.shape)"
   ]
  },
  {
   "cell_type": "code",
   "execution_count": 3,
   "metadata": {
    "colab": {
     "base_uri": "https://localhost:8080/"
    },
    "id": "REUyTWEcCnKD",
    "outputId": "3314af4d-1b22-4c1a-c33e-7d2b157a8e0f"
   },
   "outputs": [
    {
     "name": "stdout",
     "output_type": "stream",
     "text": [
      "Age                   0\n",
      "Mortality female      0\n",
      "Mortality male        0\n",
      "sex ratio             0\n",
      "Total Eggs            0\n",
      "Egg Weight            0\n",
      "Feed female           0\n",
      "Feed male             0\n",
      "Hatching Eggs         0\n",
      "total hatched eggs    0\n",
      "dtype: int64\n"
     ]
    }
   ],
   "source": [
    "# check for missing data\n",
    "print(dataset.isna().sum())"
   ]
  },
  {
   "cell_type": "code",
   "execution_count": 4,
   "metadata": {
    "colab": {
     "base_uri": "https://localhost:8080/"
    },
    "id": "_ZDo9n3pVLJc",
    "outputId": "683c9c82-14cc-453f-b2b5-10c51bde60f3"
   },
   "outputs": [
    {
     "name": "stdout",
     "output_type": "stream",
     "text": [
      "['Mortality female', 'Mortality male']\n"
     ]
    }
   ],
   "source": [
    "# Get columns with object or categorical dtype\n",
    "categorical_cols = dataset.columns[(dataset.dtypes==object) | (dataset.dtypes==bool)].tolist()\n",
    "print(categorical_cols)"
   ]
  },
  {
   "cell_type": "code",
   "execution_count": 5,
   "metadata": {
    "colab": {
     "base_uri": "https://localhost:8080/"
    },
    "id": "BrnHOxgyVrx4",
    "outputId": "028c25ab-7904-4c77-e654-077414bc10ec"
   },
   "outputs": [
    {
     "name": "stdout",
     "output_type": "stream",
     "text": [
      "Mortality female: ['5' '2' '3' '4' '6' '58' '67' '32' '8' '11' '17' '12' '10' '.' '7']\n",
      "Mortality male: ['2' '1' '-' '75' '3' '4' '0']\n"
     ]
    }
   ],
   "source": [
    "# Loop through each categorical column and print what are the categoris they have (only done for test dataset)\n",
    "for col in categorical_cols:\n",
    "    categories = dataset[col].unique()\n",
    "    print(f\"{col}: {categories}\")"
   ]
  },
  {
   "cell_type": "code",
   "execution_count": 6,
   "metadata": {
    "colab": {
     "base_uri": "https://localhost:8080/",
     "height": 206
    },
    "id": "Y1VAoWToEvi8",
    "outputId": "dc5350ec-4870-4f32-9114-ef9b9b0c2494"
   },
   "outputs": [
    {
     "data": {
      "text/html": [
       "<div>\n",
       "<style scoped>\n",
       "    .dataframe tbody tr th:only-of-type {\n",
       "        vertical-align: middle;\n",
       "    }\n",
       "\n",
       "    .dataframe tbody tr th {\n",
       "        vertical-align: top;\n",
       "    }\n",
       "\n",
       "    .dataframe thead th {\n",
       "        text-align: right;\n",
       "    }\n",
       "</style>\n",
       "<table border=\"1\" class=\"dataframe\">\n",
       "  <thead>\n",
       "    <tr style=\"text-align: right;\">\n",
       "      <th></th>\n",
       "      <th>Age</th>\n",
       "      <th>Mortality female</th>\n",
       "      <th>Mortality male</th>\n",
       "      <th>sex ratio</th>\n",
       "      <th>Total Eggs</th>\n",
       "      <th>Egg Weight</th>\n",
       "      <th>Feed female</th>\n",
       "      <th>Feed male</th>\n",
       "      <th>Hatching Eggs</th>\n",
       "      <th>total hatched eggs</th>\n",
       "    </tr>\n",
       "  </thead>\n",
       "  <tbody>\n",
       "    <tr>\n",
       "      <th>0</th>\n",
       "      <td>26.0</td>\n",
       "      <td>5</td>\n",
       "      <td>2</td>\n",
       "      <td>10.290</td>\n",
       "      <td>6850</td>\n",
       "      <td>53.2</td>\n",
       "      <td>133.0</td>\n",
       "      <td>130</td>\n",
       "      <td>6405</td>\n",
       "      <td>3343.41</td>\n",
       "    </tr>\n",
       "    <tr>\n",
       "      <th>1</th>\n",
       "      <td>26.1</td>\n",
       "      <td>2</td>\n",
       "      <td>2</td>\n",
       "      <td>10.300</td>\n",
       "      <td>7630</td>\n",
       "      <td>53.4</td>\n",
       "      <td>133.0</td>\n",
       "      <td>130</td>\n",
       "      <td>7145</td>\n",
       "      <td>3729.69</td>\n",
       "    </tr>\n",
       "    <tr>\n",
       "      <th>2</th>\n",
       "      <td>26.2</td>\n",
       "      <td>2</td>\n",
       "      <td>1</td>\n",
       "      <td>10.312</td>\n",
       "      <td>8130</td>\n",
       "      <td>53.5</td>\n",
       "      <td>136.0</td>\n",
       "      <td>130</td>\n",
       "      <td>7630</td>\n",
       "      <td>3982.86</td>\n",
       "    </tr>\n",
       "    <tr>\n",
       "      <th>3</th>\n",
       "      <td>26.3</td>\n",
       "      <td>3</td>\n",
       "      <td>0</td>\n",
       "      <td>10.318</td>\n",
       "      <td>8540</td>\n",
       "      <td>53.6</td>\n",
       "      <td>136.0</td>\n",
       "      <td>130</td>\n",
       "      <td>7990</td>\n",
       "      <td>4170.78</td>\n",
       "    </tr>\n",
       "    <tr>\n",
       "      <th>4</th>\n",
       "      <td>26.4</td>\n",
       "      <td>2</td>\n",
       "      <td>0</td>\n",
       "      <td>10.316</td>\n",
       "      <td>9560</td>\n",
       "      <td>53.7</td>\n",
       "      <td>136.0</td>\n",
       "      <td>130</td>\n",
       "      <td>8915</td>\n",
       "      <td>4653.63</td>\n",
       "    </tr>\n",
       "  </tbody>\n",
       "</table>\n",
       "</div>"
      ],
      "text/plain": [
       "    Age Mortality female Mortality male  sex ratio  Total Eggs  Egg Weight   \n",
       "0  26.0                5              2     10.290        6850        53.2  \\\n",
       "1  26.1                2              2     10.300        7630        53.4   \n",
       "2  26.2                2              1     10.312        8130        53.5   \n",
       "3  26.3                3              0     10.318        8540        53.6   \n",
       "4  26.4                2              0     10.316        9560        53.7   \n",
       "\n",
       "   Feed female  Feed male  Hatching Eggs  total hatched eggs  \n",
       "0        133.0        130           6405             3343.41  \n",
       "1        133.0        130           7145             3729.69  \n",
       "2        136.0        130           7630             3982.86  \n",
       "3        136.0        130           7990             4170.78  \n",
       "4        136.0        130           8915             4653.63  "
      ]
     },
     "metadata": {},
     "output_type": "display_data"
    }
   ],
   "source": [
    "dataset.replace('-', 0, inplace=True)\n",
    "dataset.replace('.', 0, inplace=True)\n",
    "display(dataset.head())"
   ]
  },
  {
   "cell_type": "code",
   "execution_count": 7,
   "metadata": {
    "id": "0PutUpppFzww"
   },
   "outputs": [],
   "source": [
    "# file_path = '/home/new_dataset2.csv'\n",
    "\n",
    "# # Use the to_csv() method to save the DataFrame as a CSV file\n",
    "# dataset.to_csv(file_path, index=False)"
   ]
  },
  {
   "cell_type": "code",
   "execution_count": 8,
   "metadata": {
    "colab": {
     "base_uri": "https://localhost:8080/",
     "height": 315
    },
    "id": "GrOki3DSH8ws",
    "outputId": "9072fabe-8129-47da-a48d-40f492fddb44"
   },
   "outputs": [
    {
     "data": {
      "text/html": [
       "<div>\n",
       "<style scoped>\n",
       "    .dataframe tbody tr th:only-of-type {\n",
       "        vertical-align: middle;\n",
       "    }\n",
       "\n",
       "    .dataframe tbody tr th {\n",
       "        vertical-align: top;\n",
       "    }\n",
       "\n",
       "    .dataframe thead th {\n",
       "        text-align: right;\n",
       "    }\n",
       "</style>\n",
       "<table border=\"1\" class=\"dataframe\">\n",
       "  <thead>\n",
       "    <tr style=\"text-align: right;\">\n",
       "      <th></th>\n",
       "      <th>Age</th>\n",
       "      <th>Mortality female</th>\n",
       "      <th>Mortality male</th>\n",
       "      <th>sex ratio</th>\n",
       "      <th>Total Eggs</th>\n",
       "      <th>Egg Weight</th>\n",
       "      <th>Feed female</th>\n",
       "    </tr>\n",
       "  </thead>\n",
       "  <tbody>\n",
       "    <tr>\n",
       "      <th>74</th>\n",
       "      <td>36.4</td>\n",
       "      <td>11</td>\n",
       "      <td>2</td>\n",
       "      <td>10.515</td>\n",
       "      <td>12680</td>\n",
       "      <td>62.1</td>\n",
       "      <td>166.0</td>\n",
       "    </tr>\n",
       "    <tr>\n",
       "      <th>153</th>\n",
       "      <td>47.6</td>\n",
       "      <td>3</td>\n",
       "      <td>0</td>\n",
       "      <td>10.894</td>\n",
       "      <td>10690</td>\n",
       "      <td>66.6</td>\n",
       "      <td>158.0</td>\n",
       "    </tr>\n",
       "    <tr>\n",
       "      <th>64</th>\n",
       "      <td>35.1</td>\n",
       "      <td>6</td>\n",
       "      <td>2</td>\n",
       "      <td>10.467</td>\n",
       "      <td>12990</td>\n",
       "      <td>61.1</td>\n",
       "      <td>168.0</td>\n",
       "    </tr>\n",
       "    <tr>\n",
       "      <th>295</th>\n",
       "      <td>68.1</td>\n",
       "      <td>5</td>\n",
       "      <td>3</td>\n",
       "      <td>11.924</td>\n",
       "      <td>6900</td>\n",
       "      <td>70.1</td>\n",
       "      <td>150.0</td>\n",
       "    </tr>\n",
       "    <tr>\n",
       "      <th>287</th>\n",
       "      <td>67.0</td>\n",
       "      <td>4</td>\n",
       "      <td>2</td>\n",
       "      <td>11.784</td>\n",
       "      <td>6870</td>\n",
       "      <td>69.8</td>\n",
       "      <td>152.0</td>\n",
       "    </tr>\n",
       "  </tbody>\n",
       "</table>\n",
       "</div>"
      ],
      "text/plain": [
       "      Age Mortality female Mortality male  sex ratio  Total Eggs  Egg Weight   \n",
       "74   36.4               11              2     10.515       12680        62.1  \\\n",
       "153  47.6                3              0     10.894       10690        66.6   \n",
       "64   35.1                6              2     10.467       12990        61.1   \n",
       "295  68.1                5              3     11.924        6900        70.1   \n",
       "287  67.0                4              2     11.784        6870        69.8   \n",
       "\n",
       "     Feed female  \n",
       "74         166.0  \n",
       "153        158.0  \n",
       "64         168.0  \n",
       "295        150.0  \n",
       "287        152.0  "
      ]
     },
     "metadata": {},
     "output_type": "display_data"
    },
    {
     "data": {
      "text/plain": [
       "74     10537.52\n",
       "153     9145.15\n",
       "64     10838.96\n",
       "295     5270.00\n",
       "287     5262.50\n",
       "Name: total hatched eggs, dtype: float64"
      ]
     },
     "metadata": {},
     "output_type": "display_data"
    }
   ],
   "source": [
    "# x_data = dataset.drop(columns=['total hatched eggs', 'Hatching Eggs', 'Feed female', 'Feed male'])\n",
    "x_data = dataset.drop(['total hatched eggs', 'Hatching Eggs', 'Feed male'], axis=1)\n",
    "y_data = dataset['total hatched eggs']\n",
    "# x_data.reshape(-1, 1)\n",
    "\n",
    "\n",
    "# Split the data into training and testing sets (20% testing and 80% training)\n",
    "X_train, X_test, y_train, y_test = sk_modelselect.train_test_split(x_data, y_data, test_size=0.20, random_state=0)\n",
    "\n",
    "display(X_train.head());\n",
    "display(y_train.head());"
   ]
  },
  {
   "cell_type": "code",
   "execution_count": 9,
   "metadata": {},
   "outputs": [
    {
     "name": "stdout",
     "output_type": "stream",
     "text": [
      "Mean Absolute Error: 123.45993306010926\n"
     ]
    }
   ],
   "source": [
    "# Building decision tree classifier with the Gini index criterion\n",
    "from sklearn.tree import DecisionTreeRegressor\n",
    "\n",
    "regressor = DecisionTreeRegressor(max_depth=10, random_state=0)\n",
    "regressor.fit(X_train, y_train)\n",
    "\n",
    "y_pred = regressor.predict(X_test)\n",
    "\n",
    "mae = metrics.mean_absolute_error(y_test, y_pred)\n",
    "print(\"Mean Absolute Error:\", mae)"
   ]
  },
  {
   "cell_type": "code",
   "execution_count": 10,
   "metadata": {
    "colab": {
     "base_uri": "https://localhost:8080/"
    },
    "id": "Nrz6JMpIbng9",
    "outputId": "7323c8ad-7158-4811-a938-9adf0f379349",
    "tags": []
   },
   "outputs": [],
   "source": [
    "# from sklearn.tree import DecisionTreeRegressor\n",
    "# from sklearn import metrics\n",
    "\n",
    "# for depth in range(5, 16):\n",
    "#     regressor = DecisionTreeRegressor(max_depth=depth, random_state=0)\n",
    "#     regressor.fit(X_train, y_train)\n",
    "\n",
    "#     y_pred = regressor.predict(X_test)\n",
    "\n",
    "#     mse = metrics.mean_absolute_error(y_test, y_pred)\n",
    "#     print(\"Depth:\", depth, \"Mean Absolute Error:\", mse)\n"
   ]
  },
  {
   "cell_type": "code",
   "execution_count": 11,
   "metadata": {
    "tags": []
   },
   "outputs": [],
   "source": [
    "# !pip install graphviz\n",
    "# !pip install scikit-learn\n",
    "\n",
    "# from sklearn import tree\n",
    "# import graphviz\n",
    "\n",
    "# dot_data = tree.export_graphviz(regressor, out_file=None, filled=True, rounded=True)\n",
    "\n",
    "# graph = graphviz.Source(dot_data)\n",
    "# graph.render(\"decision_tree\")  # Save the visualization as a file\n",
    "# graph.view()  # Open a window to display the visualization"
   ]
  },
  {
   "cell_type": "code",
   "execution_count": 12,
   "metadata": {},
   "outputs": [
    {
     "name": "stdout",
     "output_type": "stream",
     "text": [
      "[ 6723.          9190.2         7138.          7493.8\n",
      " 10967.68633333  6142.5         8102.4         8504.1\n",
      "  7138.          7208.          9819.7         9271.725\n",
      "  7208.          6911.175       8525.538      10838.96\n",
      " 10196.4         9819.7         7830.6        10196.4\n",
      "  8689.56        7428.75        6720.          5990.46\n",
      "  9350.83666667  7005.6         5888.          5373.27875\n",
      "  8361.4        10967.68633333  7830.6         5990.46\n",
      "  9603.075       6538.293       8504.1         6322.68\n",
      "  6240.78       10735.8         7428.75        8504.1\n",
      "  4791.96       11177.719      10561.8         6090.4\n",
      "  9975.095       9383.22        9819.7         7856.8\n",
      "  5787.6         6538.293      10869.864       9603.075\n",
      "  9730.6        10660.2         9730.6         6889.\n",
      "  9383.22        4816.24        8839.38        9655.9\n",
      " 10440.        ]\n"
     ]
    }
   ],
   "source": [
    "predictions = regressor.predict(X_test)\n",
    "print(predictions)\n",
    "\n",
    "# # Step 5: Store predictions in a CSV file\n",
    "# output_df = pd.DataFrame({'hatchedeggs': predictions})\n",
    "\n",
    "# # Step 6: Save the CSV file\n",
    "# # output_df.insert(0, 'actual', y_test)\n",
    "# output_df.to_csv('predictions.csv', index=False)\n",
    "\n",
    "# Create a DataFrame with predicted values and actual values\n",
    "results_df = pd.DataFrame({'Predictions': predictions.flatten(), 'Actual': y_test})\n",
    "\n",
    "# Save the DataFrame to a CSV file\n",
    "results_df.to_csv('predictions_decisiontree.csv', index=False)"
   ]
  }
 ],
 "metadata": {
  "colab": {
   "provenance": []
  },
  "kernelspec": {
   "display_name": "Python 3 (ipykernel)",
   "language": "python",
   "name": "python3"
  },
  "language_info": {
   "codemirror_mode": {
    "name": "ipython",
    "version": 3
   },
   "file_extension": ".py",
   "mimetype": "text/x-python",
   "name": "python",
   "nbconvert_exporter": "python",
   "pygments_lexer": "ipython3",
   "version": "3.11.3"
  }
 },
 "nbformat": 4,
 "nbformat_minor": 4
}
